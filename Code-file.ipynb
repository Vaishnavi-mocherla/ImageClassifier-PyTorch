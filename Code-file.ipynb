{
  "nbformat": 4,
  "nbformat_minor": 0,
  "metadata": {
    "colab": {
      "provenance": [],
      "gpuType": "T4"
    },
    "kernelspec": {
      "name": "python3",
      "display_name": "Python 3"
    },
    "language_info": {
      "name": "python"
    },
    "accelerator": "GPU"
  },
  "cells": [
    {
      "cell_type": "markdown",
      "source": [
        "### Homework 3"
      ],
      "metadata": {
        "id": "u8TVmqCUM5Ex"
      }
    },
    {
      "cell_type": "code",
      "source": [
        "# Lib\n",
        "import os\n",
        "import shutil\n",
        "from sklearn.model_selection import train_test_split\n",
        "from torchvision import transforms, datasets\n",
        "from torch.utils.data import DataLoader\n",
        "import torch\n",
        "import torch.nn as nn\n",
        "import torch.optim as optim\n",
        "import numpy as np\n",
        "from sklearn.metrics import classification_report, confusion_matrix\n",
        "from torchvision import models"
      ],
      "metadata": {
        "id": "YAaNpEo8NDiK"
      },
      "execution_count": 31,
      "outputs": []
    },
    {
      "cell_type": "markdown",
      "source": [
        "#### Data Preparation"
      ],
      "metadata": {
        "id": "aWogaOMbM-yf"
      }
    },
    {
      "cell_type": "code",
      "execution_count": 2,
      "metadata": {
        "colab": {
          "base_uri": "https://localhost:8080/"
        },
        "id": "GVKTNQCIMdg1",
        "outputId": "46646216-b07c-4d1b-8f22-0c0ac1a45b10"
      },
      "outputs": [
        {
          "output_type": "stream",
          "name": "stdout",
          "text": [
            "Requirement already satisfied: kaggle in /usr/local/lib/python3.10/dist-packages (1.6.17)\n",
            "Requirement already satisfied: six>=1.10 in /usr/local/lib/python3.10/dist-packages (from kaggle) (1.16.0)\n",
            "Requirement already satisfied: certifi>=2023.7.22 in /usr/local/lib/python3.10/dist-packages (from kaggle) (2024.8.30)\n",
            "Requirement already satisfied: python-dateutil in /usr/local/lib/python3.10/dist-packages (from kaggle) (2.8.2)\n",
            "Requirement already satisfied: requests in /usr/local/lib/python3.10/dist-packages (from kaggle) (2.32.3)\n",
            "Requirement already satisfied: tqdm in /usr/local/lib/python3.10/dist-packages (from kaggle) (4.66.5)\n",
            "Requirement already satisfied: python-slugify in /usr/local/lib/python3.10/dist-packages (from kaggle) (8.0.4)\n",
            "Requirement already satisfied: urllib3 in /usr/local/lib/python3.10/dist-packages (from kaggle) (2.2.3)\n",
            "Requirement already satisfied: bleach in /usr/local/lib/python3.10/dist-packages (from kaggle) (6.1.0)\n",
            "Requirement already satisfied: webencodings in /usr/local/lib/python3.10/dist-packages (from bleach->kaggle) (0.5.1)\n",
            "Requirement already satisfied: text-unidecode>=1.3 in /usr/local/lib/python3.10/dist-packages (from python-slugify->kaggle) (1.3)\n",
            "Requirement already satisfied: charset-normalizer<4,>=2 in /usr/local/lib/python3.10/dist-packages (from requests->kaggle) (3.3.2)\n",
            "Requirement already satisfied: idna<4,>=2.5 in /usr/local/lib/python3.10/dist-packages (from requests->kaggle) (3.10)\n"
          ]
        }
      ],
      "source": [
        "!pip install kaggle"
      ]
    },
    {
      "cell_type": "code",
      "source": [
        "from google.colab import files\n",
        "files.upload()  # Uploadig the Kaggle api json file\n",
        "!mkdir -p ~/.kaggle\n",
        "!cp kaggle.json ~/.kaggle/\n",
        "!chmod 600 ~/.kaggle/kaggle.json  # Permissions\n"
      ],
      "metadata": {
        "colab": {
          "base_uri": "https://localhost:8080/",
          "height": 74
        },
        "id": "6c3xTUW3Mf9Q",
        "outputId": "cc6bfbca-2b00-4482-ea11-ce9dfbb0cc29"
      },
      "execution_count": 3,
      "outputs": [
        {
          "output_type": "display_data",
          "data": {
            "text/plain": [
              "<IPython.core.display.HTML object>"
            ],
            "text/html": [
              "\n",
              "     <input type=\"file\" id=\"files-a146f571-5e63-4a26-bfc9-7adb224ef01b\" name=\"files[]\" multiple disabled\n",
              "        style=\"border:none\" />\n",
              "     <output id=\"result-a146f571-5e63-4a26-bfc9-7adb224ef01b\">\n",
              "      Upload widget is only available when the cell has been executed in the\n",
              "      current browser session. Please rerun this cell to enable.\n",
              "      </output>\n",
              "      <script>// Copyright 2017 Google LLC\n",
              "//\n",
              "// Licensed under the Apache License, Version 2.0 (the \"License\");\n",
              "// you may not use this file except in compliance with the License.\n",
              "// You may obtain a copy of the License at\n",
              "//\n",
              "//      http://www.apache.org/licenses/LICENSE-2.0\n",
              "//\n",
              "// Unless required by applicable law or agreed to in writing, software\n",
              "// distributed under the License is distributed on an \"AS IS\" BASIS,\n",
              "// WITHOUT WARRANTIES OR CONDITIONS OF ANY KIND, either express or implied.\n",
              "// See the License for the specific language governing permissions and\n",
              "// limitations under the License.\n",
              "\n",
              "/**\n",
              " * @fileoverview Helpers for google.colab Python module.\n",
              " */\n",
              "(function(scope) {\n",
              "function span(text, styleAttributes = {}) {\n",
              "  const element = document.createElement('span');\n",
              "  element.textContent = text;\n",
              "  for (const key of Object.keys(styleAttributes)) {\n",
              "    element.style[key] = styleAttributes[key];\n",
              "  }\n",
              "  return element;\n",
              "}\n",
              "\n",
              "// Max number of bytes which will be uploaded at a time.\n",
              "const MAX_PAYLOAD_SIZE = 100 * 1024;\n",
              "\n",
              "function _uploadFiles(inputId, outputId) {\n",
              "  const steps = uploadFilesStep(inputId, outputId);\n",
              "  const outputElement = document.getElementById(outputId);\n",
              "  // Cache steps on the outputElement to make it available for the next call\n",
              "  // to uploadFilesContinue from Python.\n",
              "  outputElement.steps = steps;\n",
              "\n",
              "  return _uploadFilesContinue(outputId);\n",
              "}\n",
              "\n",
              "// This is roughly an async generator (not supported in the browser yet),\n",
              "// where there are multiple asynchronous steps and the Python side is going\n",
              "// to poll for completion of each step.\n",
              "// This uses a Promise to block the python side on completion of each step,\n",
              "// then passes the result of the previous step as the input to the next step.\n",
              "function _uploadFilesContinue(outputId) {\n",
              "  const outputElement = document.getElementById(outputId);\n",
              "  const steps = outputElement.steps;\n",
              "\n",
              "  const next = steps.next(outputElement.lastPromiseValue);\n",
              "  return Promise.resolve(next.value.promise).then((value) => {\n",
              "    // Cache the last promise value to make it available to the next\n",
              "    // step of the generator.\n",
              "    outputElement.lastPromiseValue = value;\n",
              "    return next.value.response;\n",
              "  });\n",
              "}\n",
              "\n",
              "/**\n",
              " * Generator function which is called between each async step of the upload\n",
              " * process.\n",
              " * @param {string} inputId Element ID of the input file picker element.\n",
              " * @param {string} outputId Element ID of the output display.\n",
              " * @return {!Iterable<!Object>} Iterable of next steps.\n",
              " */\n",
              "function* uploadFilesStep(inputId, outputId) {\n",
              "  const inputElement = document.getElementById(inputId);\n",
              "  inputElement.disabled = false;\n",
              "\n",
              "  const outputElement = document.getElementById(outputId);\n",
              "  outputElement.innerHTML = '';\n",
              "\n",
              "  const pickedPromise = new Promise((resolve) => {\n",
              "    inputElement.addEventListener('change', (e) => {\n",
              "      resolve(e.target.files);\n",
              "    });\n",
              "  });\n",
              "\n",
              "  const cancel = document.createElement('button');\n",
              "  inputElement.parentElement.appendChild(cancel);\n",
              "  cancel.textContent = 'Cancel upload';\n",
              "  const cancelPromise = new Promise((resolve) => {\n",
              "    cancel.onclick = () => {\n",
              "      resolve(null);\n",
              "    };\n",
              "  });\n",
              "\n",
              "  // Wait for the user to pick the files.\n",
              "  const files = yield {\n",
              "    promise: Promise.race([pickedPromise, cancelPromise]),\n",
              "    response: {\n",
              "      action: 'starting',\n",
              "    }\n",
              "  };\n",
              "\n",
              "  cancel.remove();\n",
              "\n",
              "  // Disable the input element since further picks are not allowed.\n",
              "  inputElement.disabled = true;\n",
              "\n",
              "  if (!files) {\n",
              "    return {\n",
              "      response: {\n",
              "        action: 'complete',\n",
              "      }\n",
              "    };\n",
              "  }\n",
              "\n",
              "  for (const file of files) {\n",
              "    const li = document.createElement('li');\n",
              "    li.append(span(file.name, {fontWeight: 'bold'}));\n",
              "    li.append(span(\n",
              "        `(${file.type || 'n/a'}) - ${file.size} bytes, ` +\n",
              "        `last modified: ${\n",
              "            file.lastModifiedDate ? file.lastModifiedDate.toLocaleDateString() :\n",
              "                                    'n/a'} - `));\n",
              "    const percent = span('0% done');\n",
              "    li.appendChild(percent);\n",
              "\n",
              "    outputElement.appendChild(li);\n",
              "\n",
              "    const fileDataPromise = new Promise((resolve) => {\n",
              "      const reader = new FileReader();\n",
              "      reader.onload = (e) => {\n",
              "        resolve(e.target.result);\n",
              "      };\n",
              "      reader.readAsArrayBuffer(file);\n",
              "    });\n",
              "    // Wait for the data to be ready.\n",
              "    let fileData = yield {\n",
              "      promise: fileDataPromise,\n",
              "      response: {\n",
              "        action: 'continue',\n",
              "      }\n",
              "    };\n",
              "\n",
              "    // Use a chunked sending to avoid message size limits. See b/62115660.\n",
              "    let position = 0;\n",
              "    do {\n",
              "      const length = Math.min(fileData.byteLength - position, MAX_PAYLOAD_SIZE);\n",
              "      const chunk = new Uint8Array(fileData, position, length);\n",
              "      position += length;\n",
              "\n",
              "      const base64 = btoa(String.fromCharCode.apply(null, chunk));\n",
              "      yield {\n",
              "        response: {\n",
              "          action: 'append',\n",
              "          file: file.name,\n",
              "          data: base64,\n",
              "        },\n",
              "      };\n",
              "\n",
              "      let percentDone = fileData.byteLength === 0 ?\n",
              "          100 :\n",
              "          Math.round((position / fileData.byteLength) * 100);\n",
              "      percent.textContent = `${percentDone}% done`;\n",
              "\n",
              "    } while (position < fileData.byteLength);\n",
              "  }\n",
              "\n",
              "  // All done.\n",
              "  yield {\n",
              "    response: {\n",
              "      action: 'complete',\n",
              "    }\n",
              "  };\n",
              "}\n",
              "\n",
              "scope.google = scope.google || {};\n",
              "scope.google.colab = scope.google.colab || {};\n",
              "scope.google.colab._files = {\n",
              "  _uploadFiles,\n",
              "  _uploadFilesContinue,\n",
              "};\n",
              "})(self);\n",
              "</script> "
            ]
          },
          "metadata": {}
        },
        {
          "output_type": "stream",
          "name": "stdout",
          "text": [
            "Saving kaggle.json to kaggle.json\n"
          ]
        }
      ]
    },
    {
      "cell_type": "markdown",
      "source": [
        "#### Uploading Dataset\n",
        "\n",
        "\n",
        "\n",
        "\n",
        "\n"
      ],
      "metadata": {
        "id": "bKYya0iNNXpI"
      }
    },
    {
      "cell_type": "code",
      "source": [
        "# Creating a directory to store the dataset\n",
        "os.makedirs('intel_image_classification', exist_ok=True)\n",
        "\n",
        "# Downloading the dataset\n",
        "!kaggle datasets download -d puneet6060/intel-image-classification -p intel_image_classification/"
      ],
      "metadata": {
        "colab": {
          "base_uri": "https://localhost:8080/"
        },
        "id": "1Nb_JnltMid3",
        "outputId": "ed979b58-4bca-4a9d-967c-54f06e8023b5"
      },
      "execution_count": 4,
      "outputs": [
        {
          "output_type": "stream",
          "name": "stdout",
          "text": [
            "Dataset URL: https://www.kaggle.com/datasets/puneet6060/intel-image-classification\n",
            "License(s): copyright-authors\n",
            "Downloading intel-image-classification.zip to intel_image_classification\n",
            " 98% 339M/346M [00:02<00:00, 106MB/s]\n",
            "100% 346M/346M [00:02<00:00, 127MB/s]\n"
          ]
        }
      ]
    },
    {
      "cell_type": "code",
      "source": [
        "# Unzipping the dataset\n",
        "\n",
        "import zipfile\n",
        "with zipfile.ZipFile('intel_image_classification/intel-image-classification.zip', 'r') as zip_ref:\n",
        "    zip_ref.extractall('intel_image_classification/')\n",
        "\n",
        "print(\"Dataset downloaded and extracted successfully!\")\n"
      ],
      "metadata": {
        "colab": {
          "base_uri": "https://localhost:8080/"
        },
        "id": "up61I6yuNmNI",
        "outputId": "1076c40d-bccc-4551-e99f-693d2309c1fe"
      },
      "execution_count": 5,
      "outputs": [
        {
          "output_type": "stream",
          "name": "stdout",
          "text": [
            "Dataset downloaded and extracted successfully!\n"
          ]
        }
      ]
    },
    {
      "cell_type": "code",
      "source": [
        "# Defining the source directory and target directory\n",
        "source_dir = 'intel_image_classification/seg_train/seg_train'\n",
        "target_dir = 'intel_custom_dataset'"
      ],
      "metadata": {
        "id": "upkNplTsMnd9"
      },
      "execution_count": 6,
      "outputs": []
    },
    {
      "cell_type": "code",
      "source": [
        "# Creating the target directory if it doesn't exist\n",
        "os.makedirs(target_dir, exist_ok=True)"
      ],
      "metadata": {
        "id": "BMaGMT0QN2Fb"
      },
      "execution_count": 7,
      "outputs": []
    },
    {
      "cell_type": "markdown",
      "source": [
        "#### STEP 1"
      ],
      "metadata": {
        "id": "vct5afZGO3nL"
      }
    },
    {
      "cell_type": "code",
      "source": [
        "# Defining the categories\n",
        "categories = ['buildings', 'forest', 'mountain']\n",
        "\n",
        "# Copying  categories to the new directory\n",
        "for category in categories:\n",
        "    src = os.path.join(source_dir, category)\n",
        "    dest = os.path.join(target_dir, category)\n",
        "    shutil.copytree(src, dest)\n",
        "\n",
        "print(\"Selected categories have been organized in the custom_dataset directory!\")"
      ],
      "metadata": {
        "colab": {
          "base_uri": "https://localhost:8080/"
        },
        "id": "4qBSKEFDN2qe",
        "outputId": "e4bd5cab-87bd-41a3-846a-fd3523b5858a"
      },
      "execution_count": 8,
      "outputs": [
        {
          "output_type": "stream",
          "name": "stdout",
          "text": [
            "Selected categories have been organized in the custom_dataset directory!\n"
          ]
        }
      ]
    },
    {
      "cell_type": "code",
      "source": [
        "# Defining directories\n",
        "dataset_dir = 'intel_custom_dataset'\n",
        "train_dir = 'intel_custom_dataset_split/train'\n",
        "test_dir = 'intel_custom_dataset_split/test'"
      ],
      "metadata": {
        "id": "NwFrwguxO0CU"
      },
      "execution_count": 9,
      "outputs": []
    },
    {
      "cell_type": "markdown",
      "source": [
        "### STEP 2"
      ],
      "metadata": {
        "id": "JwVwITl8PnaS"
      }
    },
    {
      "cell_type": "code",
      "source": [
        "# Creating directories for train/test splits\n",
        "os.makedirs(train_dir, exist_ok=True)\n",
        "os.makedirs(test_dir, exist_ok=True)"
      ],
      "metadata": {
        "id": "nAqz3EY3MrXO"
      },
      "execution_count": 10,
      "outputs": []
    },
    {
      "cell_type": "code",
      "source": [
        "# 80- 20 Split ratio\n",
        "split_ratio = 0.2"
      ],
      "metadata": {
        "id": "lZOhMpX3P5Yu"
      },
      "execution_count": 11,
      "outputs": []
    },
    {
      "cell_type": "code",
      "source": [
        "# Function to split the data\n",
        "def split_data(category):\n",
        "    category_path = os.path.join(dataset_dir, category)\n",
        "    images = os.listdir(category_path)\n",
        "\n",
        "    # Splitting the images\n",
        "    train_images, test_images = train_test_split(images, test_size=split_ratio)\n",
        "\n",
        "    # Creating category folders in train and test directories\n",
        "    os.makedirs(os.path.join(train_dir, category), exist_ok=True)\n",
        "    os.makedirs(os.path.join(test_dir, category), exist_ok=True)\n",
        "\n",
        "    # Move train images\n",
        "    for img in train_images:\n",
        "        shutil.copy(os.path.join(category_path, img), os.path.join(train_dir, category, img))\n",
        "\n",
        "    # Move test images\n",
        "    for img in test_images:\n",
        "        shutil.copy(os.path.join(category_path, img), os.path.join(test_dir, category, img))"
      ],
      "metadata": {
        "id": "057W4Is3P-Cf"
      },
      "execution_count": 12,
      "outputs": []
    },
    {
      "cell_type": "code",
      "source": [
        "# Performing the split for each category\n",
        "categories = ['buildings', 'forest', 'mountain']\n",
        "for category in categories:\n",
        "    split_data(category)\n",
        "\n",
        "print(\"Data split into training and test sets successfully!\")"
      ],
      "metadata": {
        "colab": {
          "base_uri": "https://localhost:8080/"
        },
        "id": "RyrJmf8NS6Ci",
        "outputId": "55303f54-fb71-4083-f635-b9406e22f128"
      },
      "execution_count": 13,
      "outputs": [
        {
          "output_type": "stream",
          "name": "stdout",
          "text": [
            "Data split into training and test sets successfully!\n"
          ]
        }
      ]
    },
    {
      "cell_type": "markdown",
      "source": [
        "### STEP 3"
      ],
      "metadata": {
        "id": "SqQ80lbvTBFa"
      }
    },
    {
      "cell_type": "code",
      "source": [
        "# Defining data transformations for training and testing sets\n",
        "data_transforms = {\n",
        "    'train': transforms.Compose([\n",
        "        transforms.RandomResizedCrop(224),    # Randomly crop and resize to 224x224\n",
        "        transforms.RandomHorizontalFlip(),    # Random horizontal flip (augmentation)\n",
        "        transforms.ToTensor(),                # Convert image to PyTorch tensor\n",
        "        transforms.Normalize([0.485, 0.456, 0.406], [0.229, 0.224, 0.225])  # Normalize using ImageNet stats\n",
        "    ]),\n",
        "    'test': transforms.Compose([\n",
        "        transforms.Resize(256),               # Resize to 256\n",
        "        transforms.CenterCrop(224),           # Center crop to 224x224\n",
        "        transforms.ToTensor(),                # Convert image to PyTorch tensor\n",
        "        transforms.Normalize([0.485, 0.456, 0.406], [0.229, 0.224, 0.225])  # Normalize using ImageNet stats\n",
        "    ])\n",
        "}"
      ],
      "metadata": {
        "id": "ivWiYVToMtzi"
      },
      "execution_count": 14,
      "outputs": []
    },
    {
      "cell_type": "code",
      "source": [
        "# Loading the datasets with ImageFolder\n",
        "data_dir = 'intel_custom_dataset_split'\n",
        "image_datasets = {\n",
        "    'train': datasets.ImageFolder(os.path.join(data_dir, 'train'), data_transforms['train']),\n",
        "    'test': datasets.ImageFolder(os.path.join(data_dir, 'test'), data_transforms['test'])\n",
        "}\n"
      ],
      "metadata": {
        "id": "szy6laZPTR4B"
      },
      "execution_count": 15,
      "outputs": []
    },
    {
      "cell_type": "code",
      "source": [
        "# Creating dataloaders\n",
        "dataloaders = {\n",
        "    'train': DataLoader(image_datasets['train'], batch_size=32, shuffle=True),\n",
        "    'test': DataLoader(image_datasets['test'], batch_size=32, shuffle=False)\n",
        "}"
      ],
      "metadata": {
        "id": "WF24X_vZTwYS"
      },
      "execution_count": 16,
      "outputs": []
    },
    {
      "cell_type": "code",
      "source": [
        "# Getting the size of the datasets\n",
        "dataset_sizes = {x: len(image_datasets[x]) for x in ['train', 'test']}\n",
        "class_names = image_datasets['train'].classes\n",
        "\n",
        "print(f\"Classes: {class_names}\")\n",
        "print(f\"Dataset sizes: {dataset_sizes}\")\n"
      ],
      "metadata": {
        "colab": {
          "base_uri": "https://localhost:8080/"
        },
        "id": "uJqPDaUeUmlm",
        "outputId": "d9736e8b-0ad6-4b5a-bd92-7f2f6ea65ad8"
      },
      "execution_count": 17,
      "outputs": [
        {
          "output_type": "stream",
          "name": "stdout",
          "text": [
            "Classes: ['buildings', 'forest', 'mountain']\n",
            "Dataset sizes: {'train': 5577, 'test': 1397}\n"
          ]
        }
      ]
    },
    {
      "cell_type": "markdown",
      "source": [
        "### STEP 4"
      ],
      "metadata": {
        "id": "gNmd5gr6UrPY"
      }
    },
    {
      "cell_type": "code",
      "source": [
        "# Defining the CNN architecture\n",
        "class SimpleCNN(nn.Module):\n",
        "    def __init__(self, num_classes=3):  # 3 categories (buildings, forest, mountain)\n",
        "        super(SimpleCNN, self).__init__()\n",
        "\n",
        "        # Convolutional layers\n",
        "        self.conv1 = nn.Conv2d(3, 16, kernel_size=3, padding=1)\n",
        "        self.conv2 = nn.Conv2d(16, 32, kernel_size=3, padding=1)\n",
        "        self.conv3 = nn.Conv2d(32, 64, kernel_size=3, padding=1)\n",
        "\n",
        "        # Fully connected layers\n",
        "        self.fc1 = nn.Linear(64 * 28 * 28, 512)  # Assuming image input size is 224x224\n",
        "        self.fc2 = nn.Linear(512, num_classes)\n",
        "\n",
        "        # Pooling layer\n",
        "        self.pool = nn.MaxPool2d(2, 2)\n",
        "\n",
        "        # Activation function\n",
        "        self.relu = nn.ReLU()\n",
        "\n",
        "    def forward(self, x):\n",
        "        # Convolutional layers with ReLU and pooling\n",
        "        x = self.pool(self.relu(self.conv1(x)))\n",
        "        x = self.pool(self.relu(self.conv2(x)))\n",
        "        x = self.pool(self.relu(self.conv3(x)))\n",
        "\n",
        "        # Flatten the output for fully connected layers\n",
        "        x = x.view(-1, 64 * 28 * 28)\n",
        "\n",
        "        # Fully connected layers\n",
        "        x = self.relu(self.fc1(x))\n",
        "        x = self.fc2(x)\n",
        "\n",
        "        return x\n"
      ],
      "metadata": {
        "id": "iD07T7IkMzYD"
      },
      "execution_count": 18,
      "outputs": []
    },
    {
      "cell_type": "code",
      "source": [
        "# Instantiate the model\n",
        "model = SimpleCNN(num_classes=3)\n",
        "print (model)"
      ],
      "metadata": {
        "colab": {
          "base_uri": "https://localhost:8080/"
        },
        "id": "FYcIZveFXE65",
        "outputId": "5d4878be-be20-450c-a2a0-47c62f91a882"
      },
      "execution_count": 19,
      "outputs": [
        {
          "output_type": "stream",
          "name": "stdout",
          "text": [
            "SimpleCNN(\n",
            "  (conv1): Conv2d(3, 16, kernel_size=(3, 3), stride=(1, 1), padding=(1, 1))\n",
            "  (conv2): Conv2d(16, 32, kernel_size=(3, 3), stride=(1, 1), padding=(1, 1))\n",
            "  (conv3): Conv2d(32, 64, kernel_size=(3, 3), stride=(1, 1), padding=(1, 1))\n",
            "  (fc1): Linear(in_features=50176, out_features=512, bias=True)\n",
            "  (fc2): Linear(in_features=512, out_features=3, bias=True)\n",
            "  (pool): MaxPool2d(kernel_size=2, stride=2, padding=0, dilation=1, ceil_mode=False)\n",
            "  (relu): ReLU()\n",
            ")\n"
          ]
        }
      ]
    },
    {
      "cell_type": "code",
      "source": [
        "device = torch.device(\"cuda:0\" if torch.cuda.is_available() else \"cpu\")\n",
        "model = model.to(device)"
      ],
      "metadata": {
        "id": "6NtZYw6GW9ap"
      },
      "execution_count": 20,
      "outputs": []
    },
    {
      "cell_type": "code",
      "source": [
        "# Defining loss function and optimizer\n",
        "criterion = nn.CrossEntropyLoss()\n",
        "optimizer = optim.Adam(model.parameters(), lr=0.001)"
      ],
      "metadata": {
        "id": "9sdygvIMM3gQ"
      },
      "execution_count": 21,
      "outputs": []
    },
    {
      "cell_type": "markdown",
      "source": [
        "#### Training the model"
      ],
      "metadata": {
        "id": "iNUdr7WYXIi5"
      }
    },
    {
      "cell_type": "code",
      "source": [
        "def train_model(model, criterion, optimizer, dataloaders, num_epochs=10):\n",
        "    for epoch in range(num_epochs):\n",
        "        print(f'Epoch {epoch + 1}/{num_epochs}')\n",
        "        print('-' * 10)\n",
        "\n",
        "        # Each epoch has a training and validation phase\n",
        "        for phase in ['train', 'test']:\n",
        "            if phase == 'train':\n",
        "                model.train()\n",
        "            else:\n",
        "                model.eval()\n",
        "\n",
        "            running_loss = 0.0\n",
        "            running_corrects = 0\n",
        "\n",
        "            # Iterating over data\n",
        "            for inputs, labels in dataloaders[phase]:\n",
        "                inputs = inputs.to(device)\n",
        "                labels = labels.to(device)\n",
        "\n",
        "                # Zero the parameter gradients\n",
        "                optimizer.zero_grad()\n",
        "\n",
        "                # Forward pass\n",
        "                with torch.set_grad_enabled(phase == 'train'):\n",
        "                    outputs = model(inputs)\n",
        "                    _, preds = torch.max(outputs, 1)\n",
        "                    loss = criterion(outputs, labels)\n",
        "\n",
        "                    # Backward pass + optimize only in train phase\n",
        "                    if phase == 'train':\n",
        "                        loss.backward()\n",
        "                        optimizer.step()\n",
        "\n",
        "                # Statistics\n",
        "                running_loss += loss.item() * inputs.size(0)\n",
        "                running_corrects += torch.sum(preds == labels.data)\n",
        "\n",
        "            epoch_loss = running_loss / len(dataloaders[phase].dataset)\n",
        "            epoch_acc = running_corrects.double() / len(dataloaders[phase].dataset)\n",
        "\n",
        "            print(f'{phase} Loss: {epoch_loss:.4f} Acc: {epoch_acc:.4f}')\n",
        "\n",
        "    print('Training complete.')"
      ],
      "metadata": {
        "id": "TXIrjCgsM6Rv"
      },
      "execution_count": 22,
      "outputs": []
    },
    {
      "cell_type": "code",
      "source": [
        "# Train the model\n",
        "train_model(model, criterion, optimizer, dataloaders, num_epochs=10)"
      ],
      "metadata": {
        "colab": {
          "base_uri": "https://localhost:8080/"
        },
        "id": "5mBtLAYoXYN3",
        "outputId": "50b06430-87b3-4123-c362-e214ffa1c657"
      },
      "execution_count": 23,
      "outputs": [
        {
          "output_type": "stream",
          "name": "stdout",
          "text": [
            "Epoch 1/10\n",
            "----------\n",
            "train Loss: 0.6367 Acc: 0.7361\n",
            "test Loss: 0.3301 Acc: 0.8676\n",
            "Epoch 2/10\n",
            "----------\n",
            "train Loss: 0.3779 Acc: 0.8571\n",
            "test Loss: 0.2433 Acc: 0.9220\n",
            "Epoch 3/10\n",
            "----------\n",
            "train Loss: 0.2977 Acc: 0.8928\n",
            "test Loss: 0.2120 Acc: 0.9306\n",
            "Epoch 4/10\n",
            "----------\n",
            "train Loss: 0.2850 Acc: 0.8938\n",
            "test Loss: 0.1685 Acc: 0.9420\n",
            "Epoch 5/10\n",
            "----------\n",
            "train Loss: 0.2417 Acc: 0.9170\n",
            "test Loss: 0.1866 Acc: 0.9377\n",
            "Epoch 6/10\n",
            "----------\n",
            "train Loss: 0.2150 Acc: 0.9261\n",
            "test Loss: 0.1820 Acc: 0.9442\n",
            "Epoch 7/10\n",
            "----------\n",
            "train Loss: 0.2328 Acc: 0.9213\n",
            "test Loss: 0.1395 Acc: 0.9506\n",
            "Epoch 8/10\n",
            "----------\n",
            "train Loss: 0.2024 Acc: 0.9320\n",
            "test Loss: 0.1155 Acc: 0.9685\n",
            "Epoch 9/10\n",
            "----------\n",
            "train Loss: 0.1941 Acc: 0.9337\n",
            "test Loss: 0.1185 Acc: 0.9656\n",
            "Epoch 10/10\n",
            "----------\n",
            "train Loss: 0.1787 Acc: 0.9351\n",
            "test Loss: 0.1237 Acc: 0.9592\n",
            "Training complete.\n"
          ]
        }
      ]
    },
    {
      "cell_type": "markdown",
      "source": [
        "#### STEP 5"
      ],
      "metadata": {
        "id": "1tsMNb9cjnma"
      }
    },
    {
      "cell_type": "markdown",
      "source": [
        "#### Testing"
      ],
      "metadata": {
        "id": "WIGZCdhfioLn"
      }
    },
    {
      "cell_type": "code",
      "source": [
        "def evaluate_model(model, dataloaders):\n",
        "    model.eval()  # Set model to evaluation mode\n",
        "    all_preds = []\n",
        "    all_labels = []\n",
        "\n",
        "    # Iterating over test data\n",
        "    for inputs, labels in dataloaders['test']:\n",
        "        inputs = inputs.to(device)\n",
        "        labels = labels.to(device)\n",
        "\n",
        "        # Forward pass (no gradient tracking for evaluation)\n",
        "        with torch.no_grad():\n",
        "            outputs = model(inputs)\n",
        "            _, preds = torch.max(outputs, 1)\n",
        "\n",
        "        # Appending predictions and labels to lists\n",
        "        all_preds.append(preds.cpu().numpy())\n",
        "        all_labels.append(labels.cpu().numpy())\n",
        "\n",
        "    # Flattening the lists\n",
        "    all_preds = np.concatenate(all_preds)\n",
        "    all_labels = np.concatenate(all_labels)\n",
        "\n",
        "    # Classification report\n",
        "    print(\"Classification Report:\")\n",
        "    print(classification_report(all_labels, all_preds, target_names=class_names))\n",
        "\n",
        "    # Confusion matrix\n",
        "    print(\"Confusion Matrix:\")\n",
        "    print(confusion_matrix(all_labels, all_preds))\n"
      ],
      "metadata": {
        "id": "DSN5InkxiptL"
      },
      "execution_count": 29,
      "outputs": []
    },
    {
      "cell_type": "code",
      "source": [
        "# Evaluate the model on the test set\n",
        "evaluate_model(model, dataloaders)"
      ],
      "metadata": {
        "colab": {
          "base_uri": "https://localhost:8080/"
        },
        "id": "fnMDHY7njFfk",
        "outputId": "81807ca0-160e-4e24-ced0-24a158afc811"
      },
      "execution_count": 30,
      "outputs": [
        {
          "output_type": "stream",
          "name": "stdout",
          "text": [
            "Classification Report:\n",
            "              precision    recall  f1-score   support\n",
            "\n",
            "   buildings       0.95      0.94      0.94       439\n",
            "      forest       0.96      0.98      0.97       455\n",
            "    mountain       0.97      0.96      0.96       503\n",
            "\n",
            "    accuracy                           0.96      1397\n",
            "   macro avg       0.96      0.96      0.96      1397\n",
            "weighted avg       0.96      0.96      0.96      1397\n",
            "\n",
            "Confusion Matrix:\n",
            "[[411  17  11]\n",
            " [  2 447   6]\n",
            " [ 19   2 482]]\n"
          ]
        }
      ]
    },
    {
      "cell_type": "markdown",
      "source": [
        "### STEP 6"
      ],
      "metadata": {
        "id": "c2ppkVgLjqD7"
      }
    },
    {
      "cell_type": "code",
      "source": [
        "# Loading the pre-trained GoogleNet model\n",
        "googlenet = models.googlenet(pretrained=True)"
      ],
      "metadata": {
        "colab": {
          "base_uri": "https://localhost:8080/"
        },
        "id": "7BV5gQb8jrUx",
        "outputId": "f100f1f3-5928-4679-85b6-afc713aca643"
      },
      "execution_count": 32,
      "outputs": [
        {
          "output_type": "stream",
          "name": "stderr",
          "text": [
            "/usr/local/lib/python3.10/dist-packages/torchvision/models/_utils.py:208: UserWarning: The parameter 'pretrained' is deprecated since 0.13 and may be removed in the future, please use 'weights' instead.\n",
            "  warnings.warn(\n",
            "/usr/local/lib/python3.10/dist-packages/torchvision/models/_utils.py:223: UserWarning: Arguments other than a weight enum or `None` for 'weights' are deprecated since 0.13 and may be removed in the future. The current behavior is equivalent to passing `weights=GoogLeNet_Weights.IMAGENET1K_V1`. You can also use `weights=GoogLeNet_Weights.DEFAULT` to get the most up-to-date weights.\n",
            "  warnings.warn(msg)\n",
            "Downloading: \"https://download.pytorch.org/models/googlenet-1378be20.pth\" to /root/.cache/torch/hub/checkpoints/googlenet-1378be20.pth\n",
            "100%|██████████| 49.7M/49.7M [00:01<00:00, 40.1MB/s]\n"
          ]
        }
      ]
    },
    {
      "cell_type": "code",
      "source": [
        "# Freezing all layers\n",
        "for param in googlenet.parameters():\n",
        "    param.requires_grad = False"
      ],
      "metadata": {
        "id": "_SsVoJSjkFcz"
      },
      "execution_count": 33,
      "outputs": []
    },
    {
      "cell_type": "code",
      "source": [
        "# Modifing the final layer to output 3 classes\n",
        "num_ftrs = googlenet.fc.in_features\n",
        "googlenet.fc = nn.Linear(num_ftrs, 3)"
      ],
      "metadata": {
        "id": "_JxFjKZPkIAo"
      },
      "execution_count": 34,
      "outputs": []
    },
    {
      "cell_type": "code",
      "source": [
        "googlenet = googlenet.to(device)"
      ],
      "metadata": {
        "id": "x46sYd9dkMvv"
      },
      "execution_count": 35,
      "outputs": []
    },
    {
      "cell_type": "code",
      "source": [
        "# Defining the loss function and optimizer\n",
        "criterion = nn.CrossEntropyLoss()\n",
        "optimizer = optim.Adam(googlenet.fc.parameters(), lr=0.001)"
      ],
      "metadata": {
        "id": "S18BhzotkOmb"
      },
      "execution_count": 36,
      "outputs": []
    },
    {
      "cell_type": "markdown",
      "source": [
        "### STEP 7"
      ],
      "metadata": {
        "id": "cRXZoK0FkYda"
      }
    },
    {
      "cell_type": "code",
      "source": [
        "def train_googlenet_model(model, criterion, optimizer, dataloaders, num_epochs=10):\n",
        "    for epoch in range(num_epochs):\n",
        "        print(f'Epoch {epoch + 1}/{num_epochs}')\n",
        "        print('-' * 10)\n",
        "\n",
        "        for phase in ['train', 'test']:\n",
        "            if phase == 'train':\n",
        "                model.train()  #  Training mode\n",
        "            else:\n",
        "                model.eval()   # Evaluation mode\n",
        "\n",
        "            running_loss = 0.0\n",
        "            running_corrects = 0\n",
        "\n",
        "            for inputs, labels in dataloaders[phase]:\n",
        "                inputs = inputs.to(device)\n",
        "                labels = labels.to(device)\n",
        "\n",
        "                optimizer.zero_grad()\n",
        "\n",
        "                # Forward pass\n",
        "                with torch.set_grad_enabled(phase == 'train'):\n",
        "                    outputs = model(inputs)\n",
        "                    _, preds = torch.max(outputs, 1)\n",
        "                    loss = criterion(outputs, labels)\n",
        "\n",
        "                    # Backward pass and optimization in training phase\n",
        "                    if phase == 'train':\n",
        "                        loss.backward()\n",
        "                        optimizer.step()\n",
        "\n",
        "                running_loss += loss.item() * inputs.size(0)\n",
        "                running_corrects += torch.sum(preds == labels.data)\n",
        "\n",
        "            epoch_loss = running_loss / len(dataloaders[phase].dataset)\n",
        "            epoch_acc = running_corrects.double() / len(dataloaders[phase].dataset)\n",
        "\n",
        "            print(f'{phase} Loss: {epoch_loss:.4f} Acc: {epoch_acc:.4f}')\n",
        "\n",
        "    print('Training complete.')"
      ],
      "metadata": {
        "id": "6hWV3Zc_kSJk"
      },
      "execution_count": 37,
      "outputs": []
    },
    {
      "cell_type": "code",
      "source": [
        "# Train the modified GoogleNet model\n",
        "train_googlenet_model(googlenet, criterion, optimizer, dataloaders, num_epochs=10)"
      ],
      "metadata": {
        "colab": {
          "base_uri": "https://localhost:8080/"
        },
        "id": "46HdxoHalRsW",
        "outputId": "c857ab6c-4f81-4a9f-8823-75e25942f039"
      },
      "execution_count": 39,
      "outputs": [
        {
          "output_type": "stream",
          "name": "stdout",
          "text": [
            "Epoch 1/10\n",
            "----------\n",
            "train Loss: 0.3206 Acc: 0.9267\n",
            "test Loss: 0.0928 Acc: 0.9800\n",
            "Epoch 2/10\n",
            "----------\n",
            "train Loss: 0.1441 Acc: 0.9579\n",
            "test Loss: 0.0629 Acc: 0.9871\n",
            "Epoch 3/10\n",
            "----------\n",
            "train Loss: 0.1251 Acc: 0.9647\n",
            "test Loss: 0.0549 Acc: 0.9835\n",
            "Epoch 4/10\n",
            "----------\n",
            "train Loss: 0.1123 Acc: 0.9627\n",
            "test Loss: 0.0741 Acc: 0.9792\n",
            "Epoch 5/10\n",
            "----------\n",
            "train Loss: 0.1036 Acc: 0.9681\n",
            "test Loss: 0.0427 Acc: 0.9885\n",
            "Epoch 6/10\n",
            "----------\n",
            "train Loss: 0.1013 Acc: 0.9666\n",
            "test Loss: 0.0392 Acc: 0.9900\n",
            "Epoch 7/10\n",
            "----------\n",
            "train Loss: 0.1105 Acc: 0.9627\n",
            "test Loss: 0.0381 Acc: 0.9878\n",
            "Epoch 8/10\n",
            "----------\n",
            "train Loss: 0.1060 Acc: 0.9670\n",
            "test Loss: 0.0360 Acc: 0.9900\n",
            "Epoch 9/10\n",
            "----------\n",
            "train Loss: 0.1090 Acc: 0.9658\n",
            "test Loss: 0.0335 Acc: 0.9900\n",
            "Epoch 10/10\n",
            "----------\n",
            "train Loss: 0.0931 Acc: 0.9684\n",
            "test Loss: 0.0298 Acc: 0.9907\n",
            "Training complete.\n"
          ]
        }
      ]
    },
    {
      "cell_type": "code",
      "source": [
        "# Evaluating the GoogleNet model\n",
        "evaluate_model(googlenet, dataloaders)\n"
      ],
      "metadata": {
        "colab": {
          "base_uri": "https://localhost:8080/"
        },
        "id": "xmKB8puClAdF",
        "outputId": "6dcd7d2a-d558-4923-da2a-1baa66a378e8"
      },
      "execution_count": 40,
      "outputs": [
        {
          "output_type": "stream",
          "name": "stdout",
          "text": [
            "Classification Report:\n",
            "              precision    recall  f1-score   support\n",
            "\n",
            "   buildings       0.99      0.99      0.99       439\n",
            "      forest       0.99      0.99      0.99       455\n",
            "    mountain       0.99      0.99      0.99       503\n",
            "\n",
            "    accuracy                           0.99      1397\n",
            "   macro avg       0.99      0.99      0.99      1397\n",
            "weighted avg       0.99      0.99      0.99      1397\n",
            "\n",
            "Confusion Matrix:\n",
            "[[434   3   2]\n",
            " [  0 451   4]\n",
            " [  3   1 499]]\n"
          ]
        }
      ]
    },
    {
      "cell_type": "code",
      "source": [],
      "metadata": {
        "id": "cHRLyOnxlEtY"
      },
      "execution_count": null,
      "outputs": []
    }
  ]
}